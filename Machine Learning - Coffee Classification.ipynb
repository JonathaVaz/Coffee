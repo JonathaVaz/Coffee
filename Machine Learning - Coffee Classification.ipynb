{
 "cells": [
  {
   "cell_type": "markdown",
   "metadata": {},
   "source": [
    "## ***Classificação de Café - Machine Learning***\n",
    "#### **Modelo de Machine Learning para Classificar Diferentes Cafés atráves de suas características gerais.**\n",
    "#### **Data : 08/05/2024**\n",
    "#### **Jonatha Rodrigues T. Vaz**"
   ]
  },
  {
   "cell_type": "markdown",
   "metadata": {},
   "source": [
    "### ***Etapas do Projeto:***\n",
    "#### **- Carregamento e Visualização do Conjunto de Dados**\n",
    "#### **-- Análise de Exploratória de Dados**\n",
    "#### **--- Analise de Perfil (Pandas Profiling)**\n",
    "#### **---- Visão Geral do Conjunto de Dados (Overview Analytics)**\n",
    "#### **----- Tratamento de Dados e Preparação**\n",
    "#### **------ Análise Estatísta Profunda + Análise de Dados**\n",
    "#### **------- Análise de Produto**\n",
    "#### **-------- Testes e Hipóteses**\n",
    "#### **--------- Machine Learning**\n",
    "#### **---------- Construção dos Algoritmos**\n",
    "#### **----------- Avaliação dos Algoritmos**"
   ]
  },
  {
   "cell_type": "markdown",
   "metadata": {},
   "source": [
    "## **Iniciando Desenvolvimento do Projeto**"
   ]
  },
  {
   "cell_type": "markdown",
   "metadata": {},
   "source": [
    "### **Importando as Bibliotecas**"
   ]
  },
  {
   "cell_type": "code",
   "execution_count": 1,
   "metadata": {},
   "outputs": [],
   "source": [
    "import pandas as pd\n",
    "import numpy as np \n",
    "import seaborn as sns\n",
    "import matplotlib.pyplot as plt\n",
    "import warnings\n",
    "warnings.filterwarnings('ignore')"
   ]
  },
  {
   "cell_type": "markdown",
   "metadata": {},
   "source": [
    "### ***Carregando o Conjunto de Dados e Visualizando***"
   ]
  },
  {
   "cell_type": "code",
   "execution_count": 2,
   "metadata": {},
   "outputs": [
    {
     "data": {
      "text/html": [
       "<div>\n",
       "<style scoped>\n",
       "    .dataframe tbody tr th:only-of-type {\n",
       "        vertical-align: middle;\n",
       "    }\n",
       "\n",
       "    .dataframe tbody tr th {\n",
       "        vertical-align: top;\n",
       "    }\n",
       "\n",
       "    .dataframe thead th {\n",
       "        text-align: right;\n",
       "    }\n",
       "</style>\n",
       "<table border=\"1\" class=\"dataframe\">\n",
       "  <thead>\n",
       "    <tr style=\"text-align: right;\">\n",
       "      <th></th>\n",
       "      <th>transaction_id</th>\n",
       "      <th>transaction_date</th>\n",
       "      <th>transaction_time</th>\n",
       "      <th>store_id</th>\n",
       "      <th>store_location</th>\n",
       "      <th>product_id</th>\n",
       "      <th>transaction_qty</th>\n",
       "      <th>unit_price</th>\n",
       "      <th>Total_Bill</th>\n",
       "      <th>product_category</th>\n",
       "      <th>product_type</th>\n",
       "      <th>product_detail</th>\n",
       "      <th>Size</th>\n",
       "      <th>Month Name</th>\n",
       "      <th>Day Name</th>\n",
       "      <th>Hour</th>\n",
       "      <th>Month</th>\n",
       "      <th>Day of Week</th>\n",
       "    </tr>\n",
       "  </thead>\n",
       "  <tbody>\n",
       "    <tr>\n",
       "      <th>0</th>\n",
       "      <td>114301</td>\n",
       "      <td>01-06-2023</td>\n",
       "      <td>11:33:29</td>\n",
       "      <td>3</td>\n",
       "      <td>Astoria</td>\n",
       "      <td>45</td>\n",
       "      <td>1</td>\n",
       "      <td>3.0</td>\n",
       "      <td>3.0</td>\n",
       "      <td>Tea</td>\n",
       "      <td>Brewed herbal tea</td>\n",
       "      <td>Peppermint</td>\n",
       "      <td>Large</td>\n",
       "      <td>June</td>\n",
       "      <td>Thursday</td>\n",
       "      <td>11</td>\n",
       "      <td>6</td>\n",
       "      <td>3</td>\n",
       "    </tr>\n",
       "    <tr>\n",
       "      <th>1</th>\n",
       "      <td>115405</td>\n",
       "      <td>02-06-2023</td>\n",
       "      <td>11:18:24</td>\n",
       "      <td>3</td>\n",
       "      <td>Astoria</td>\n",
       "      <td>45</td>\n",
       "      <td>1</td>\n",
       "      <td>3.0</td>\n",
       "      <td>3.0</td>\n",
       "      <td>Tea</td>\n",
       "      <td>Brewed herbal tea</td>\n",
       "      <td>Peppermint</td>\n",
       "      <td>Large</td>\n",
       "      <td>June</td>\n",
       "      <td>Friday</td>\n",
       "      <td>11</td>\n",
       "      <td>6</td>\n",
       "      <td>4</td>\n",
       "    </tr>\n",
       "    <tr>\n",
       "      <th>2</th>\n",
       "      <td>115478</td>\n",
       "      <td>02-06-2023</td>\n",
       "      <td>12:02:45</td>\n",
       "      <td>3</td>\n",
       "      <td>Astoria</td>\n",
       "      <td>45</td>\n",
       "      <td>1</td>\n",
       "      <td>3.0</td>\n",
       "      <td>3.0</td>\n",
       "      <td>Tea</td>\n",
       "      <td>Brewed herbal tea</td>\n",
       "      <td>Peppermint</td>\n",
       "      <td>Large</td>\n",
       "      <td>June</td>\n",
       "      <td>Friday</td>\n",
       "      <td>12</td>\n",
       "      <td>6</td>\n",
       "      <td>4</td>\n",
       "    </tr>\n",
       "    <tr>\n",
       "      <th>3</th>\n",
       "      <td>116288</td>\n",
       "      <td>02-06-2023</td>\n",
       "      <td>19:39:47</td>\n",
       "      <td>3</td>\n",
       "      <td>Astoria</td>\n",
       "      <td>45</td>\n",
       "      <td>1</td>\n",
       "      <td>3.0</td>\n",
       "      <td>3.0</td>\n",
       "      <td>Tea</td>\n",
       "      <td>Brewed herbal tea</td>\n",
       "      <td>Peppermint</td>\n",
       "      <td>Large</td>\n",
       "      <td>June</td>\n",
       "      <td>Friday</td>\n",
       "      <td>19</td>\n",
       "      <td>6</td>\n",
       "      <td>4</td>\n",
       "    </tr>\n",
       "    <tr>\n",
       "      <th>4</th>\n",
       "      <td>116714</td>\n",
       "      <td>03-06-2023</td>\n",
       "      <td>12:24:57</td>\n",
       "      <td>3</td>\n",
       "      <td>Astoria</td>\n",
       "      <td>45</td>\n",
       "      <td>1</td>\n",
       "      <td>3.0</td>\n",
       "      <td>3.0</td>\n",
       "      <td>Tea</td>\n",
       "      <td>Brewed herbal tea</td>\n",
       "      <td>Peppermint</td>\n",
       "      <td>Large</td>\n",
       "      <td>June</td>\n",
       "      <td>Saturday</td>\n",
       "      <td>12</td>\n",
       "      <td>6</td>\n",
       "      <td>5</td>\n",
       "    </tr>\n",
       "    <tr>\n",
       "      <th>5</th>\n",
       "      <td>116739</td>\n",
       "      <td>03-06-2023</td>\n",
       "      <td>12:44:17</td>\n",
       "      <td>3</td>\n",
       "      <td>Astoria</td>\n",
       "      <td>45</td>\n",
       "      <td>1</td>\n",
       "      <td>3.0</td>\n",
       "      <td>3.0</td>\n",
       "      <td>Tea</td>\n",
       "      <td>Brewed herbal tea</td>\n",
       "      <td>Peppermint</td>\n",
       "      <td>Large</td>\n",
       "      <td>June</td>\n",
       "      <td>Saturday</td>\n",
       "      <td>12</td>\n",
       "      <td>6</td>\n",
       "      <td>5</td>\n",
       "    </tr>\n",
       "    <tr>\n",
       "      <th>6</th>\n",
       "      <td>116853</td>\n",
       "      <td>03-06-2023</td>\n",
       "      <td>13:58:14</td>\n",
       "      <td>3</td>\n",
       "      <td>Astoria</td>\n",
       "      <td>45</td>\n",
       "      <td>1</td>\n",
       "      <td>3.0</td>\n",
       "      <td>3.0</td>\n",
       "      <td>Tea</td>\n",
       "      <td>Brewed herbal tea</td>\n",
       "      <td>Peppermint</td>\n",
       "      <td>Large</td>\n",
       "      <td>June</td>\n",
       "      <td>Saturday</td>\n",
       "      <td>13</td>\n",
       "      <td>6</td>\n",
       "      <td>5</td>\n",
       "    </tr>\n",
       "    <tr>\n",
       "      <th>7</th>\n",
       "      <td>117389</td>\n",
       "      <td>03-06-2023</td>\n",
       "      <td>18:57:29</td>\n",
       "      <td>3</td>\n",
       "      <td>Astoria</td>\n",
       "      <td>45</td>\n",
       "      <td>1</td>\n",
       "      <td>3.0</td>\n",
       "      <td>3.0</td>\n",
       "      <td>Tea</td>\n",
       "      <td>Brewed herbal tea</td>\n",
       "      <td>Peppermint</td>\n",
       "      <td>Large</td>\n",
       "      <td>June</td>\n",
       "      <td>Saturday</td>\n",
       "      <td>18</td>\n",
       "      <td>6</td>\n",
       "      <td>5</td>\n",
       "    </tr>\n",
       "    <tr>\n",
       "      <th>8</th>\n",
       "      <td>118056</td>\n",
       "      <td>04-06-2023</td>\n",
       "      <td>14:31:43</td>\n",
       "      <td>3</td>\n",
       "      <td>Astoria</td>\n",
       "      <td>45</td>\n",
       "      <td>1</td>\n",
       "      <td>3.0</td>\n",
       "      <td>3.0</td>\n",
       "      <td>Tea</td>\n",
       "      <td>Brewed herbal tea</td>\n",
       "      <td>Peppermint</td>\n",
       "      <td>Large</td>\n",
       "      <td>June</td>\n",
       "      <td>Sunday</td>\n",
       "      <td>14</td>\n",
       "      <td>6</td>\n",
       "      <td>6</td>\n",
       "    </tr>\n",
       "    <tr>\n",
       "      <th>9</th>\n",
       "      <td>118281</td>\n",
       "      <td>04-06-2023</td>\n",
       "      <td>16:30:33</td>\n",
       "      <td>3</td>\n",
       "      <td>Astoria</td>\n",
       "      <td>45</td>\n",
       "      <td>1</td>\n",
       "      <td>3.0</td>\n",
       "      <td>3.0</td>\n",
       "      <td>Tea</td>\n",
       "      <td>Brewed herbal tea</td>\n",
       "      <td>Peppermint</td>\n",
       "      <td>Large</td>\n",
       "      <td>June</td>\n",
       "      <td>Sunday</td>\n",
       "      <td>16</td>\n",
       "      <td>6</td>\n",
       "      <td>6</td>\n",
       "    </tr>\n",
       "  </tbody>\n",
       "</table>\n",
       "</div>"
      ],
      "text/plain": [
       "   transaction_id transaction_date transaction_time  store_id store_location  \\\n",
       "0          114301       01-06-2023         11:33:29         3        Astoria   \n",
       "1          115405       02-06-2023         11:18:24         3        Astoria   \n",
       "2          115478       02-06-2023         12:02:45         3        Astoria   \n",
       "3          116288       02-06-2023         19:39:47         3        Astoria   \n",
       "4          116714       03-06-2023         12:24:57         3        Astoria   \n",
       "5          116739       03-06-2023         12:44:17         3        Astoria   \n",
       "6          116853       03-06-2023         13:58:14         3        Astoria   \n",
       "7          117389       03-06-2023         18:57:29         3        Astoria   \n",
       "8          118056       04-06-2023         14:31:43         3        Astoria   \n",
       "9          118281       04-06-2023         16:30:33         3        Astoria   \n",
       "\n",
       "   product_id  transaction_qty  unit_price  Total_Bill product_category  \\\n",
       "0          45                1         3.0         3.0              Tea   \n",
       "1          45                1         3.0         3.0              Tea   \n",
       "2          45                1         3.0         3.0              Tea   \n",
       "3          45                1         3.0         3.0              Tea   \n",
       "4          45                1         3.0         3.0              Tea   \n",
       "5          45                1         3.0         3.0              Tea   \n",
       "6          45                1         3.0         3.0              Tea   \n",
       "7          45                1         3.0         3.0              Tea   \n",
       "8          45                1         3.0         3.0              Tea   \n",
       "9          45                1         3.0         3.0              Tea   \n",
       "\n",
       "        product_type product_detail   Size Month Name  Day Name  Hour  Month  \\\n",
       "0  Brewed herbal tea     Peppermint  Large       June  Thursday    11      6   \n",
       "1  Brewed herbal tea     Peppermint  Large       June    Friday    11      6   \n",
       "2  Brewed herbal tea     Peppermint  Large       June    Friday    12      6   \n",
       "3  Brewed herbal tea     Peppermint  Large       June    Friday    19      6   \n",
       "4  Brewed herbal tea     Peppermint  Large       June  Saturday    12      6   \n",
       "5  Brewed herbal tea     Peppermint  Large       June  Saturday    12      6   \n",
       "6  Brewed herbal tea     Peppermint  Large       June  Saturday    13      6   \n",
       "7  Brewed herbal tea     Peppermint  Large       June  Saturday    18      6   \n",
       "8  Brewed herbal tea     Peppermint  Large       June    Sunday    14      6   \n",
       "9  Brewed herbal tea     Peppermint  Large       June    Sunday    16      6   \n",
       "\n",
       "   Day of Week  \n",
       "0            3  \n",
       "1            4  \n",
       "2            4  \n",
       "3            4  \n",
       "4            5  \n",
       "5            5  \n",
       "6            5  \n",
       "7            5  \n",
       "8            6  \n",
       "9            6  "
      ]
     },
     "execution_count": 2,
     "metadata": {},
     "output_type": "execute_result"
    }
   ],
   "source": [
    "df = pd.read_csv(\"coffee.csv\")\n",
    "df.head(10)"
   ]
  },
  {
   "cell_type": "markdown",
   "metadata": {},
   "source": [
    "## ***Análise de Exploratória de Dados***"
   ]
  },
  {
   "cell_type": "markdown",
   "metadata": {},
   "source": [
    "### **Visualizando Todas as Colunas e seu Tipo Categorico**"
   ]
  },
  {
   "cell_type": "code",
   "execution_count": 3,
   "metadata": {},
   "outputs": [
    {
     "data": {
      "text/plain": [
       "Index(['transaction_id', 'transaction_date', 'transaction_time', 'store_id',\n",
       "       'store_location', 'product_id', 'transaction_qty', 'unit_price',\n",
       "       'Total_Bill', 'product_category', 'product_type', 'product_detail',\n",
       "       'Size', 'Month Name', 'Day Name', 'Hour', 'Month', 'Day of Week'],\n",
       "      dtype='object')"
      ]
     },
     "execution_count": 3,
     "metadata": {},
     "output_type": "execute_result"
    }
   ],
   "source": [
    "df.columns"
   ]
  },
  {
   "cell_type": "code",
   "execution_count": 4,
   "metadata": {},
   "outputs": [
    {
     "data": {
      "text/plain": [
       "transaction_id        int64\n",
       "transaction_date     object\n",
       "transaction_time     object\n",
       "store_id              int64\n",
       "store_location       object\n",
       "product_id            int64\n",
       "transaction_qty       int64\n",
       "unit_price          float64\n",
       "Total_Bill          float64\n",
       "product_category     object\n",
       "product_type         object\n",
       "product_detail       object\n",
       "Size                 object\n",
       "Month Name           object\n",
       "Day Name             object\n",
       "Hour                  int64\n",
       "Month                 int64\n",
       "Day of Week           int64\n",
       "dtype: object"
      ]
     },
     "execution_count": 4,
     "metadata": {},
     "output_type": "execute_result"
    }
   ],
   "source": [
    "df.dtypes"
   ]
  },
  {
   "cell_type": "markdown",
   "metadata": {},
   "source": [
    "### **Verificando a Quantidade de Colunas e Linhas do Conjunto**"
   ]
  },
  {
   "cell_type": "code",
   "execution_count": 5,
   "metadata": {},
   "outputs": [
    {
     "name": "stdout",
     "output_type": "stream",
     "text": [
      "Existe 149116 Linhas no DataSet\n",
      "\n",
      "Existe 18 Colunas no DataSet\n"
     ]
    }
   ],
   "source": [
    "print(f\"Existe {df.shape[0]} Linhas no DataSet\\n\")\n",
    "print(f\"Existe {df.shape[1]} Colunas no DataSet\")"
   ]
  },
  {
   "cell_type": "markdown",
   "metadata": {},
   "source": [
    "### **Verificando Possiveis Valores Ausentes nas Colunas**"
   ]
  },
  {
   "cell_type": "code",
   "execution_count": 6,
   "metadata": {},
   "outputs": [
    {
     "data": {
      "text/plain": [
       "transaction_id      0\n",
       "transaction_date    0\n",
       "transaction_time    0\n",
       "store_id            0\n",
       "store_location      0\n",
       "product_id          0\n",
       "transaction_qty     0\n",
       "unit_price          0\n",
       "Total_Bill          0\n",
       "product_category    0\n",
       "product_type        0\n",
       "product_detail      0\n",
       "Size                0\n",
       "Month Name          0\n",
       "Day Name            0\n",
       "Hour                0\n",
       "Month               0\n",
       "Day of Week         0\n",
       "dtype: int64"
      ]
     },
     "execution_count": 6,
     "metadata": {},
     "output_type": "execute_result"
    }
   ],
   "source": [
    "df.isnull().sum()"
   ]
  },
  {
   "cell_type": "markdown",
   "metadata": {},
   "source": [
    "### **Verificando Possíveis Valores Distintos das Colunas** "
   ]
  },
  {
   "cell_type": "code",
   "execution_count": 7,
   "metadata": {},
   "outputs": [
    {
     "data": {
      "text/plain": [
       "transaction_id      149116\n",
       "transaction_date       181\n",
       "transaction_time     25762\n",
       "store_id                 3\n",
       "store_location           3\n",
       "product_id              80\n",
       "transaction_qty          6\n",
       "unit_price              41\n",
       "Total_Bill              75\n",
       "product_category         9\n",
       "product_type            29\n",
       "product_detail          45\n",
       "Size                     4\n",
       "Month Name               6\n",
       "Day Name                 7\n",
       "Hour                    15\n",
       "Month                    6\n",
       "Day of Week              7\n",
       "dtype: int64"
      ]
     },
     "execution_count": 7,
     "metadata": {},
     "output_type": "execute_result"
    }
   ],
   "source": [
    "df.nunique()"
   ]
  },
  {
   "cell_type": "markdown",
   "metadata": {},
   "source": [
    "## ***Análise de Perfil (Pandas Profiling)***"
   ]
  },
  {
   "cell_type": "markdown",
   "metadata": {},
   "source": [
    "### **Importando o Pandas Profiling e Gerando um Relatório de Perfil Completo sobre o Conjunto de Dados**"
   ]
  },
  {
   "cell_type": "code",
   "execution_count": 8,
   "metadata": {},
   "outputs": [],
   "source": [
    "# from ydata_profiling import ProfileReport"
   ]
  },
  {
   "cell_type": "code",
   "execution_count": 9,
   "metadata": {},
   "outputs": [],
   "source": [
    "# profile = ProfileReport(df, title=\"Café - Relatório de Perfil\")"
   ]
  },
  {
   "cell_type": "code",
   "execution_count": 10,
   "metadata": {},
   "outputs": [],
   "source": [
    "# profile"
   ]
  },
  {
   "cell_type": "markdown",
   "metadata": {},
   "source": [
    "### **Exportando o Relatório para HTML**"
   ]
  },
  {
   "cell_type": "code",
   "execution_count": 11,
   "metadata": {},
   "outputs": [],
   "source": [
    "# profile.to_file(\"Relatorio_de_Perfil_Café.html\")"
   ]
  },
  {
   "cell_type": "markdown",
   "metadata": {},
   "source": [
    "## ***Visão Geral do Conjunto de Dados (Overview Analytics)***"
   ]
  },
  {
   "cell_type": "markdown",
   "metadata": {},
   "source": [
    "### **Analisando as Informações Gerais do Conjunto de Dados**"
   ]
  },
  {
   "cell_type": "code",
   "execution_count": 12,
   "metadata": {},
   "outputs": [
    {
     "name": "stdout",
     "output_type": "stream",
     "text": [
      "<class 'pandas.core.frame.DataFrame'>\n",
      "RangeIndex: 149116 entries, 0 to 149115\n",
      "Data columns (total 18 columns):\n",
      " #   Column            Non-Null Count   Dtype  \n",
      "---  ------            --------------   -----  \n",
      " 0   transaction_id    149116 non-null  int64  \n",
      " 1   transaction_date  149116 non-null  object \n",
      " 2   transaction_time  149116 non-null  object \n",
      " 3   store_id          149116 non-null  int64  \n",
      " 4   store_location    149116 non-null  object \n",
      " 5   product_id        149116 non-null  int64  \n",
      " 6   transaction_qty   149116 non-null  int64  \n",
      " 7   unit_price        149116 non-null  float64\n",
      " 8   Total_Bill        149116 non-null  float64\n",
      " 9   product_category  149116 non-null  object \n",
      " 10  product_type      149116 non-null  object \n",
      " 11  product_detail    149116 non-null  object \n",
      " 12  Size              149116 non-null  object \n",
      " 13  Month Name        149116 non-null  object \n",
      " 14  Day Name          149116 non-null  object \n",
      " 15  Hour              149116 non-null  int64  \n",
      " 16  Month             149116 non-null  int64  \n",
      " 17  Day of Week       149116 non-null  int64  \n",
      "dtypes: float64(2), int64(7), object(9)\n",
      "memory usage: 20.5+ MB\n"
     ]
    }
   ],
   "source": [
    "df.info()"
   ]
  },
  {
   "cell_type": "markdown",
   "metadata": {},
   "source": [
    "### **Verificando o Sumário Estatístico das Variáveis Númericas**"
   ]
  },
  {
   "cell_type": "code",
   "execution_count": 13,
   "metadata": {},
   "outputs": [
    {
     "data": {
      "text/html": [
       "<div>\n",
       "<style scoped>\n",
       "    .dataframe tbody tr th:only-of-type {\n",
       "        vertical-align: middle;\n",
       "    }\n",
       "\n",
       "    .dataframe tbody tr th {\n",
       "        vertical-align: top;\n",
       "    }\n",
       "\n",
       "    .dataframe thead th {\n",
       "        text-align: right;\n",
       "    }\n",
       "</style>\n",
       "<table border=\"1\" class=\"dataframe\">\n",
       "  <thead>\n",
       "    <tr style=\"text-align: right;\">\n",
       "      <th></th>\n",
       "      <th>count</th>\n",
       "      <th>mean</th>\n",
       "      <th>std</th>\n",
       "      <th>min</th>\n",
       "      <th>25%</th>\n",
       "      <th>50%</th>\n",
       "      <th>75%</th>\n",
       "      <th>max</th>\n",
       "    </tr>\n",
       "  </thead>\n",
       "  <tbody>\n",
       "    <tr>\n",
       "      <th>transaction_id</th>\n",
       "      <td>149116.0</td>\n",
       "      <td>74737.371872</td>\n",
       "      <td>43153.600016</td>\n",
       "      <td>1.0</td>\n",
       "      <td>37335.75</td>\n",
       "      <td>74727.50</td>\n",
       "      <td>112094.25</td>\n",
       "      <td>149456.0</td>\n",
       "    </tr>\n",
       "    <tr>\n",
       "      <th>store_id</th>\n",
       "      <td>149116.0</td>\n",
       "      <td>5.342063</td>\n",
       "      <td>2.074241</td>\n",
       "      <td>3.0</td>\n",
       "      <td>3.00</td>\n",
       "      <td>5.00</td>\n",
       "      <td>8.00</td>\n",
       "      <td>8.0</td>\n",
       "    </tr>\n",
       "    <tr>\n",
       "      <th>product_id</th>\n",
       "      <td>149116.0</td>\n",
       "      <td>47.918607</td>\n",
       "      <td>17.930020</td>\n",
       "      <td>1.0</td>\n",
       "      <td>33.00</td>\n",
       "      <td>47.00</td>\n",
       "      <td>60.00</td>\n",
       "      <td>87.0</td>\n",
       "    </tr>\n",
       "    <tr>\n",
       "      <th>transaction_qty</th>\n",
       "      <td>149116.0</td>\n",
       "      <td>1.438276</td>\n",
       "      <td>0.542509</td>\n",
       "      <td>1.0</td>\n",
       "      <td>1.00</td>\n",
       "      <td>1.00</td>\n",
       "      <td>2.00</td>\n",
       "      <td>8.0</td>\n",
       "    </tr>\n",
       "    <tr>\n",
       "      <th>unit_price</th>\n",
       "      <td>149116.0</td>\n",
       "      <td>3.382219</td>\n",
       "      <td>2.658723</td>\n",
       "      <td>0.8</td>\n",
       "      <td>2.50</td>\n",
       "      <td>3.00</td>\n",
       "      <td>3.75</td>\n",
       "      <td>45.0</td>\n",
       "    </tr>\n",
       "    <tr>\n",
       "      <th>Total_Bill</th>\n",
       "      <td>149116.0</td>\n",
       "      <td>4.686367</td>\n",
       "      <td>4.227099</td>\n",
       "      <td>0.8</td>\n",
       "      <td>3.00</td>\n",
       "      <td>3.75</td>\n",
       "      <td>6.00</td>\n",
       "      <td>360.0</td>\n",
       "    </tr>\n",
       "    <tr>\n",
       "      <th>Hour</th>\n",
       "      <td>149116.0</td>\n",
       "      <td>11.735790</td>\n",
       "      <td>3.764662</td>\n",
       "      <td>6.0</td>\n",
       "      <td>9.00</td>\n",
       "      <td>11.00</td>\n",
       "      <td>15.00</td>\n",
       "      <td>20.0</td>\n",
       "    </tr>\n",
       "    <tr>\n",
       "      <th>Month</th>\n",
       "      <td>149116.0</td>\n",
       "      <td>3.988881</td>\n",
       "      <td>1.673091</td>\n",
       "      <td>1.0</td>\n",
       "      <td>3.00</td>\n",
       "      <td>4.00</td>\n",
       "      <td>5.00</td>\n",
       "      <td>6.0</td>\n",
       "    </tr>\n",
       "    <tr>\n",
       "      <th>Day of Week</th>\n",
       "      <td>149116.0</td>\n",
       "      <td>2.982336</td>\n",
       "      <td>1.996650</td>\n",
       "      <td>0.0</td>\n",
       "      <td>1.00</td>\n",
       "      <td>3.00</td>\n",
       "      <td>5.00</td>\n",
       "      <td>6.0</td>\n",
       "    </tr>\n",
       "  </tbody>\n",
       "</table>\n",
       "</div>"
      ],
      "text/plain": [
       "                    count          mean           std  min       25%  \\\n",
       "transaction_id   149116.0  74737.371872  43153.600016  1.0  37335.75   \n",
       "store_id         149116.0      5.342063      2.074241  3.0      3.00   \n",
       "product_id       149116.0     47.918607     17.930020  1.0     33.00   \n",
       "transaction_qty  149116.0      1.438276      0.542509  1.0      1.00   \n",
       "unit_price       149116.0      3.382219      2.658723  0.8      2.50   \n",
       "Total_Bill       149116.0      4.686367      4.227099  0.8      3.00   \n",
       "Hour             149116.0     11.735790      3.764662  6.0      9.00   \n",
       "Month            149116.0      3.988881      1.673091  1.0      3.00   \n",
       "Day of Week      149116.0      2.982336      1.996650  0.0      1.00   \n",
       "\n",
       "                      50%        75%       max  \n",
       "transaction_id   74727.50  112094.25  149456.0  \n",
       "store_id             5.00       8.00       8.0  \n",
       "product_id          47.00      60.00      87.0  \n",
       "transaction_qty      1.00       2.00       8.0  \n",
       "unit_price           3.00       3.75      45.0  \n",
       "Total_Bill           3.75       6.00     360.0  \n",
       "Hour                11.00      15.00      20.0  \n",
       "Month                4.00       5.00       6.0  \n",
       "Day of Week          3.00       5.00       6.0  "
      ]
     },
     "execution_count": 13,
     "metadata": {},
     "output_type": "execute_result"
    }
   ],
   "source": [
    "df.describe().T"
   ]
  },
  {
   "cell_type": "markdown",
   "metadata": {},
   "source": [
    "### **Verificando o Sumário Estatístico das Variáveis Categoriais**"
   ]
  },
  {
   "cell_type": "code",
   "execution_count": 14,
   "metadata": {},
   "outputs": [
    {
     "data": {
      "text/html": [
       "<div>\n",
       "<style scoped>\n",
       "    .dataframe tbody tr th:only-of-type {\n",
       "        vertical-align: middle;\n",
       "    }\n",
       "\n",
       "    .dataframe tbody tr th {\n",
       "        vertical-align: top;\n",
       "    }\n",
       "\n",
       "    .dataframe thead th {\n",
       "        text-align: right;\n",
       "    }\n",
       "</style>\n",
       "<table border=\"1\" class=\"dataframe\">\n",
       "  <thead>\n",
       "    <tr style=\"text-align: right;\">\n",
       "      <th></th>\n",
       "      <th>transaction_date</th>\n",
       "      <th>transaction_time</th>\n",
       "      <th>store_location</th>\n",
       "      <th>product_category</th>\n",
       "      <th>product_type</th>\n",
       "      <th>product_detail</th>\n",
       "      <th>Size</th>\n",
       "      <th>Month Name</th>\n",
       "      <th>Day Name</th>\n",
       "    </tr>\n",
       "  </thead>\n",
       "  <tbody>\n",
       "    <tr>\n",
       "      <th>count</th>\n",
       "      <td>149116</td>\n",
       "      <td>149116</td>\n",
       "      <td>149116</td>\n",
       "      <td>149116</td>\n",
       "      <td>149116</td>\n",
       "      <td>149116</td>\n",
       "      <td>149116</td>\n",
       "      <td>149116</td>\n",
       "      <td>149116</td>\n",
       "    </tr>\n",
       "    <tr>\n",
       "      <th>unique</th>\n",
       "      <td>181</td>\n",
       "      <td>25762</td>\n",
       "      <td>3</td>\n",
       "      <td>9</td>\n",
       "      <td>29</td>\n",
       "      <td>45</td>\n",
       "      <td>4</td>\n",
       "      <td>6</td>\n",
       "      <td>7</td>\n",
       "    </tr>\n",
       "    <tr>\n",
       "      <th>top</th>\n",
       "      <td>19-06-2023</td>\n",
       "      <td>09:31:15</td>\n",
       "      <td>Hell's Kitchen</td>\n",
       "      <td>Coffee</td>\n",
       "      <td>Brewed Chai tea</td>\n",
       "      <td>Our Old Time Diner Blend</td>\n",
       "      <td>Regular</td>\n",
       "      <td>June</td>\n",
       "      <td>Friday</td>\n",
       "    </tr>\n",
       "    <tr>\n",
       "      <th>freq</th>\n",
       "      <td>1343</td>\n",
       "      <td>41</td>\n",
       "      <td>50735</td>\n",
       "      <td>58416</td>\n",
       "      <td>17183</td>\n",
       "      <td>8660</td>\n",
       "      <td>45789</td>\n",
       "      <td>35352</td>\n",
       "      <td>21701</td>\n",
       "    </tr>\n",
       "  </tbody>\n",
       "</table>\n",
       "</div>"
      ],
      "text/plain": [
       "       transaction_date transaction_time  store_location product_category  \\\n",
       "count            149116           149116          149116           149116   \n",
       "unique              181            25762               3                9   \n",
       "top          19-06-2023         09:31:15  Hell's Kitchen           Coffee   \n",
       "freq               1343               41           50735            58416   \n",
       "\n",
       "           product_type            product_detail     Size Month Name Day Name  \n",
       "count            149116                    149116   149116     149116   149116  \n",
       "unique               29                        45        4          6        7  \n",
       "top     Brewed Chai tea  Our Old Time Diner Blend  Regular       June   Friday  \n",
       "freq              17183                      8660    45789      35352    21701  "
      ]
     },
     "execution_count": 14,
     "metadata": {},
     "output_type": "execute_result"
    }
   ],
   "source": [
    "df.describe(include=\"object\")"
   ]
  },
  {
   "cell_type": "markdown",
   "metadata": {},
   "source": [
    "## ***Tratamento de Dados e Preparação***"
   ]
  },
  {
   "cell_type": "markdown",
   "metadata": {},
   "source": [
    "### **Convertendo a Coluna \"transaction_date\" e \"transaction_time\" para o Formato Data Tempo (datetime)**"
   ]
  },
  {
   "cell_type": "code",
   "execution_count": 15,
   "metadata": {},
   "outputs": [],
   "source": [
    "df['transaction_date'] = pd.to_datetime(df['transaction_date'], format='%d-%m-%Y')\n",
    "df['transaction_time'] = pd.to_timedelta(df['transaction_time'])"
   ]
  },
  {
   "cell_type": "code",
   "execution_count": 16,
   "metadata": {},
   "outputs": [
    {
     "data": {
      "text/html": [
       "<div>\n",
       "<style scoped>\n",
       "    .dataframe tbody tr th:only-of-type {\n",
       "        vertical-align: middle;\n",
       "    }\n",
       "\n",
       "    .dataframe tbody tr th {\n",
       "        vertical-align: top;\n",
       "    }\n",
       "\n",
       "    .dataframe thead th {\n",
       "        text-align: right;\n",
       "    }\n",
       "</style>\n",
       "<table border=\"1\" class=\"dataframe\">\n",
       "  <thead>\n",
       "    <tr style=\"text-align: right;\">\n",
       "      <th></th>\n",
       "      <th>transaction_date</th>\n",
       "      <th>transaction_time</th>\n",
       "    </tr>\n",
       "  </thead>\n",
       "  <tbody>\n",
       "    <tr>\n",
       "      <th>0</th>\n",
       "      <td>2023-06-01</td>\n",
       "      <td>0 days 11:33:29</td>\n",
       "    </tr>\n",
       "    <tr>\n",
       "      <th>1</th>\n",
       "      <td>2023-06-02</td>\n",
       "      <td>0 days 11:18:24</td>\n",
       "    </tr>\n",
       "    <tr>\n",
       "      <th>2</th>\n",
       "      <td>2023-06-02</td>\n",
       "      <td>0 days 12:02:45</td>\n",
       "    </tr>\n",
       "    <tr>\n",
       "      <th>3</th>\n",
       "      <td>2023-06-02</td>\n",
       "      <td>0 days 19:39:47</td>\n",
       "    </tr>\n",
       "    <tr>\n",
       "      <th>4</th>\n",
       "      <td>2023-06-03</td>\n",
       "      <td>0 days 12:24:57</td>\n",
       "    </tr>\n",
       "  </tbody>\n",
       "</table>\n",
       "</div>"
      ],
      "text/plain": [
       "  transaction_date transaction_time\n",
       "0       2023-06-01  0 days 11:33:29\n",
       "1       2023-06-02  0 days 11:18:24\n",
       "2       2023-06-02  0 days 12:02:45\n",
       "3       2023-06-02  0 days 19:39:47\n",
       "4       2023-06-03  0 days 12:24:57"
      ]
     },
     "execution_count": 16,
     "metadata": {},
     "output_type": "execute_result"
    }
   ],
   "source": [
    "df[['transaction_date', 'transaction_time']].head()"
   ]
  },
  {
   "cell_type": "markdown",
   "metadata": {},
   "source": [
    "## ***Análise Estatística Profunda + Análise de Dados***"
   ]
  },
  {
   "cell_type": "markdown",
   "metadata": {},
   "source": [
    "### **Visualização da Tendência Diária de Vendas e Tendência de Vendas Mensal**\n",
    "#### **Análise de Série Temporal (Tendências)**"
   ]
  },
  {
   "cell_type": "code",
   "execution_count": 17,
   "metadata": {},
   "outputs": [],
   "source": [
    "# Definindo o Estilo do Layout\n",
    "plt.style.use(\"dark_background\")\n",
    "\n",
    "# Definindo as Variáveis para o Layout\n",
    "\n",
    "# Tendência Diária\n",
    "daily_sales = df.groupby(df['transaction_date']).size()\n",
    "\n",
    "# Tendência Mensal\n",
    "monthly_sales = df.groupby(df['Month Name']).size().reindex(['January', 'February', 'March', 'April', 'May', 'June'])"
   ]
  },
  {
   "cell_type": "code",
   "execution_count": 18,
   "metadata": {},
   "outputs": [
    {
     "data": {
      "image/png": "[encoded data removed]",
      "text/plain": [
       "<Figure size 1400x600 with 2 Axes>"
      ]
     },
     "metadata": {},
     "output_type": "display_data"
    }
   ],
   "source": [
    "# Definindo Escala do Layout\n",
    "plt.figure(figsize=(14,6))\n",
    "\n",
    "plt.subplot(1, 2, 1)\n",
    "daily_sales.plot(title=\"Tendência de Vendas Diárias\\n\", fontsize=10, xlabel='Data', ylabel='Número de Transações', color='chartreuse')\n",
    "plt.xticks(rotation=45)\n",
    "\n",
    "plt.subplot(1, 2, 2)\n",
    "monthly_sales.plot(kind='bar', title=\"Tendência de Vendas Mensais\\n\", fontsize=10, xlabel='Meses', ylabel='Número de Transações', color='deepskyblue')\n",
    "plt.xticks(rotation=45)\n",
    "\n",
    "plt.tight_layout()\n",
    "plt.show()"
   ]
  },
  {
   "cell_type": "code",
   "execution_count": null,
   "metadata": {},
   "outputs": [],
   "source": []
  }
 ],
 "metadata": {
  "kernelspec": {
   "display_name": "Python 3 (ipykernel)",
   "language": "python",
   "name": "python3"
  },
  "language_info": {
   "codemirror_mode": {
    "name": "ipython",
    "version": 3
   },
   "file_extension": ".py",
   "mimetype": "text/x-python",
   "name": "python",
   "nbconvert_exporter": "python",
   "pygments_lexer": "ipython3",
   "version": "3.11.5"
  }
 },
 "nbformat": 4,
 "nbformat_minor": 2
}
